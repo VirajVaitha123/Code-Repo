{
 "metadata": {
  "language_info": {
   "codemirror_mode": {
    "name": "ipython",
    "version": 3
   },
   "file_extension": ".py",
   "mimetype": "text/x-python",
   "name": "python",
   "nbconvert_exporter": "python",
   "pygments_lexer": "ipython3",
   "version": 3
  },
  "orig_nbformat": 2
 },
 "nbformat": 4,
 "nbformat_minor": 2,
 "cells": [
  {
   "source": [
    "## Visualisations\n",
    "\n",
    "Code snipets to help visualise data for a variety of different scenarios <br>\n",
    "\n",
    "\n",
    "<u> Contents </u> <br>\n",
    "<a href=\"#map1\">1. Plot a single greyscale image</a> <br>\n",
    "<a href=\"#map2\">2. Plot multiple greyscale images </a> <br>\n",
    "<br>\n",
    "\n"
   ],
   "cell_type": "markdown",
   "metadata": {}
  },
  {
   "cell_type": "code",
   "execution_count": null,
   "metadata": {},
   "outputs": [],
   "source": [
    "class SingleImages:\n",
    "    def __init__(self,Image,Shape)\n",
    "    self.Image = Image\n",
    "    self.Shape = Shape\n",
    "\n",
    "   def plot_greyscale_image(self,Image,Shape):\n",
    "       \"\"\"\n",
    "       Accepts a single greyscale image (each column = pixel) and plots the image\n",
    "       \"\"\"\n",
    "       #Step 1: Resize or Reshape the image\n",
    "       single_shape = self.shape^0.5      \n",
    "\n",
    "       Image = self.Image.reshape(single_shape,single_shape) \n",
    "       \n",
    "       #Step 2: Plot the image\n",
    "       plt.imshow(Image,\n",
    "       cmap= matplotlib.cm.binary,\n",
    "       interpolation =\"spline16\")\n",
    "       plt.axis(\"off\")                            \n",
    "       plt.show()                                  \n",
    "\n"
   ]
  },
  {
   "cell_type": "code",
   "execution_count": null,
   "metadata": {},
   "outputs": [],
   "source": [
    "class multiple_images:\n",
    "    def __init__(self,instances,size,images_per_row = 10,figsize =(9,9)):\n",
    "        self.size = size\n",
    "        self.instances = instances\n",
    "        self.images_per_row = min(len(instances), self.images_per_row)\n",
    "\n",
    "\n",
    "    def plot_multiple_greyscale_digits(self):\n",
    "        size = self.size\n",
    "        instances = self.instances\n",
    "        images_per_row = self.images_per_row\n",
    "        images = [instance.reshape(size,size) for instance in instances]   \n",
    "        n_rows = (len(instances)-1) // images_per_row +1\n",
    "        row_images = []\n",
    "        n_empty = n_rows * images_per_row - len(instances)\n",
    "        images.append(np.zeros((size, size * n_empty)))\n",
    "        \n",
    "        for row in range(n_rows):\n",
    "            rimages = images[row * images_per_row : (row + 1) * images_per_row\n",
    "            row_images.append(np.concatenate(rimages, axis=1))\n",
    "            image = np.concatenate(row_images, axis=0)\n",
    "            plt.imshow(image, cmap = matplotlib.cm.binary, **options)\n",
    "            plt.axis(\"off\")\n",
    "        plt.figure(figsize)\n",
    "        plt.show()"
   ]
  }
 ]
}
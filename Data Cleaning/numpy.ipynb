{
 "metadata": {
  "language_info": {
   "codemirror_mode": {
    "name": "ipython",
    "version": 3
   },
   "file_extension": ".py",
   "mimetype": "text/x-python",
   "name": "python",
   "nbconvert_exporter": "python",
   "pygments_lexer": "ipython3",
   "version": "3.7.3-final"
  },
  "orig_nbformat": 2,
  "kernelspec": {
   "name": "python3",
   "display_name": "Python 3"
  }
 },
 "nbformat": 4,
 "nbformat_minor": 2,
 "cells": [
  {
   "source": [
    "#### Creating dummy data for code demonstrations"
   ],
   "cell_type": "markdown",
   "metadata": {}
  },
  {
   "cell_type": "code",
   "execution_count": 8,
   "metadata": {},
   "outputs": [],
   "source": [
    "from sklearn.datasets import make_blobs  "
   ]
  },
  {
   "cell_type": "code",
   "execution_count": 9,
   "metadata": {},
   "outputs": [],
   "source": [
    "I, b = make_blobs(n_samples=37, #37 people responded to the survey\n",
    "                  centers = 3,  #Three clusters\n",
    "                  n_features=6, #Number of Survey Questions\n",
    "                  center_box =(-2, 4), \n",
    "                  cluster_std = 0.3,\n",
    "                  random_state= 42)"
   ]
  },
  {
   "source": [
    "#### Rounding Values"
   ],
   "cell_type": "markdown",
   "metadata": {}
  },
  {
   "cell_type": "code",
   "execution_count": 10,
   "metadata": {},
   "outputs": [],
   "source": [
    "import numpy as np"
   ]
  },
  {
   "cell_type": "code",
   "execution_count": 11,
   "metadata": {},
   "outputs": [],
   "source": [
    "I = I.round(0)"
   ]
  },
  {
   "cell_type": "code",
   "execution_count": 12,
   "metadata": {},
   "outputs": [
    {
     "output_type": "execute_result",
     "data": {
      "text/plain": [
       "array([[ 0.,  4.,  3.,  2., -1., -1.],\n",
       "       [ 3., -1., -1.,  0., -0.,  1.],\n",
       "       [ 0.,  3.,  3.,  1., -1., -2.],\n",
       "       [-0.,  4.,  2.,  2., -1., -1.],\n",
       "       [-2.,  3.,  2.,  2., -2.,  4.],\n",
       "       [-1.,  4.,  2.,  2., -1., -2.],\n",
       "       [ 3., -0., -1., -1., -0.,  1.],\n",
       "       [ 3., -1., -1., -1., -1.,  1.],\n",
       "       [ 0.,  4.,  2.,  2., -1., -1.],\n",
       "       [ 3., -1., -0., -1.,  0.,  1.],\n",
       "       [-2.,  3.,  1.,  2., -2.,  4.],\n",
       "       [-0.,  4.,  2.,  2., -1., -1.],\n",
       "       [-2.,  4.,  1.,  2., -2.,  4.],\n",
       "       [-0.,  3.,  2.,  2., -1., -2.],\n",
       "       [-2.,  3.,  1.,  2., -2.,  4.],\n",
       "       [ 3., -1., -1., -1.,  0.,  1.],\n",
       "       [ 1.,  4.,  2.,  1., -1., -1.],\n",
       "       [-2.,  3.,  1.,  2., -2.,  4.],\n",
       "       [-2.,  3.,  1.,  2., -2.,  4.],\n",
       "       [-0.,  4.,  2.,  2., -1., -1.],\n",
       "       [ 0.,  4.,  3.,  1., -1., -1.],\n",
       "       [-0.,  3.,  3.,  2., -1., -1.],\n",
       "       [ 3., -1., -1., -1., -0.,  1.],\n",
       "       [-2.,  4.,  1.,  2., -2.,  3.],\n",
       "       [-0.,  4.,  3.,  2., -1., -1.],\n",
       "       [ 3., -1., -1., -1., -0.,  1.],\n",
       "       [-2.,  3.,  2.,  2., -2.,  4.],\n",
       "       [ 3., -1., -1., -0., -0.,  1.],\n",
       "       [ 3., -0., -1., -0.,  0.,  1.],\n",
       "       [ 3., -1., -1., -1., -0.,  1.],\n",
       "       [ 3., -1., -1., -1., -0.,  1.],\n",
       "       [-2.,  3.,  2.,  2., -1.,  4.],\n",
       "       [-2.,  3.,  2.,  3., -2.,  4.],\n",
       "       [-1.,  3.,  2.,  3., -2.,  4.],\n",
       "       [ 3., -1., -1., -1., -0.,  1.],\n",
       "       [ 1.,  4.,  2.,  2., -1., -1.],\n",
       "       [-2.,  3.,  2.,  2., -2.,  4.]])"
      ]
     },
     "metadata": {},
     "execution_count": 12
    }
   ],
   "source": [
    "I"
   ]
  },
  {
   "source": [
    "#### Filter numpy array\n",
    "1. If number is less than 0, multiply by -1\n",
    "2. numbers < 0 but > -1 such as -0.5, are remaining as -0. This statement converts -0 to 0"
   ],
   "cell_type": "markdown",
   "metadata": {}
  },
  {
   "cell_type": "code",
   "execution_count": 13,
   "metadata": {},
   "outputs": [],
   "source": [
    "I = np.where(I<0,-1*I,I) "
   ]
  },
  {
   "cell_type": "code",
   "execution_count": 14,
   "metadata": {},
   "outputs": [
    {
     "output_type": "execute_result",
     "data": {
      "text/plain": [
       "array([[ 0.,  4.,  3.,  2.,  1.,  1.],\n",
       "       [ 3.,  1.,  1.,  0., -0.,  1.],\n",
       "       [ 0.,  3.,  3.,  1.,  1.,  2.],\n",
       "       [-0.,  4.,  2.,  2.,  1.,  1.],\n",
       "       [ 2.,  3.,  2.,  2.,  2.,  4.],\n",
       "       [ 1.,  4.,  2.,  2.,  1.,  2.],\n",
       "       [ 3., -0.,  1.,  1., -0.,  1.],\n",
       "       [ 3.,  1.,  1.,  1.,  1.,  1.],\n",
       "       [ 0.,  4.,  2.,  2.,  1.,  1.],\n",
       "       [ 3.,  1., -0.,  1.,  0.,  1.],\n",
       "       [ 2.,  3.,  1.,  2.,  2.,  4.],\n",
       "       [-0.,  4.,  2.,  2.,  1.,  1.],\n",
       "       [ 2.,  4.,  1.,  2.,  2.,  4.],\n",
       "       [-0.,  3.,  2.,  2.,  1.,  2.],\n",
       "       [ 2.,  3.,  1.,  2.,  2.,  4.],\n",
       "       [ 3.,  1.,  1.,  1.,  0.,  1.],\n",
       "       [ 1.,  4.,  2.,  1.,  1.,  1.],\n",
       "       [ 2.,  3.,  1.,  2.,  2.,  4.],\n",
       "       [ 2.,  3.,  1.,  2.,  2.,  4.],\n",
       "       [-0.,  4.,  2.,  2.,  1.,  1.],\n",
       "       [ 0.,  4.,  3.,  1.,  1.,  1.],\n",
       "       [-0.,  3.,  3.,  2.,  1.,  1.],\n",
       "       [ 3.,  1.,  1.,  1., -0.,  1.],\n",
       "       [ 2.,  4.,  1.,  2.,  2.,  3.],\n",
       "       [-0.,  4.,  3.,  2.,  1.,  1.],\n",
       "       [ 3.,  1.,  1.,  1., -0.,  1.],\n",
       "       [ 2.,  3.,  2.,  2.,  2.,  4.],\n",
       "       [ 3.,  1.,  1., -0., -0.,  1.],\n",
       "       [ 3., -0.,  1., -0.,  0.,  1.],\n",
       "       [ 3.,  1.,  1.,  1., -0.,  1.],\n",
       "       [ 3.,  1.,  1.,  1., -0.,  1.],\n",
       "       [ 2.,  3.,  2.,  2.,  1.,  4.],\n",
       "       [ 2.,  3.,  2.,  3.,  2.,  4.],\n",
       "       [ 1.,  3.,  2.,  3.,  2.,  4.],\n",
       "       [ 3.,  1.,  1.,  1., -0.,  1.],\n",
       "       [ 1.,  4.,  2.,  2.,  1.,  1.],\n",
       "       [ 2.,  3.,  2.,  2.,  2.,  4.]])"
      ]
     },
     "metadata": {},
     "execution_count": 14
    }
   ],
   "source": [
    "I "
   ]
  },
  {
   "cell_type": "code",
   "execution_count": 15,
   "metadata": {},
   "outputs": [],
   "source": [
    "I = np.where(I==-0, 0, I) #"
   ]
  },
  {
   "source": [
    "#### Converting numpy array to a dataframe"
   ],
   "cell_type": "markdown",
   "metadata": {}
  },
  {
   "cell_type": "code",
   "execution_count": 17,
   "metadata": {},
   "outputs": [],
   "source": [
    "import pandas as pd"
   ]
  },
  {
   "cell_type": "code",
   "execution_count": 20,
   "metadata": {},
   "outputs": [
    {
     "output_type": "execute_result",
     "data": {
      "text/plain": [
       "   Did you experience any delays on your flight  The plane was clean  \\\n",
       "0                                           0.0                  4.0   \n",
       "1                                           3.0                  1.0   \n",
       "2                                           0.0                  3.0   \n",
       "3                                           0.0                  4.0   \n",
       "4                                           2.0                  3.0   \n",
       "\n",
       "   You enjoyed the food during your flight  \\\n",
       "0                                      3.0   \n",
       "1                                      1.0   \n",
       "2                                      3.0   \n",
       "3                                      2.0   \n",
       "4                                      2.0   \n",
       "\n",
       "   Flight attendants solved your problems quickly  \\\n",
       "0                                             2.0   \n",
       "1                                             0.0   \n",
       "2                                             1.0   \n",
       "3                                             2.0   \n",
       "4                                             2.0   \n",
       "\n",
       "   You enjoyed the customer service during your flight   \\\n",
       "0                                                1.0      \n",
       "1                                                0.0      \n",
       "2                                                1.0      \n",
       "3                                                1.0      \n",
       "4                                                2.0      \n",
       "\n",
       "   You would like to travel with us again  \n",
       "0                                     1.0  \n",
       "1                                     1.0  \n",
       "2                                     2.0  \n",
       "3                                     1.0  \n",
       "4                                     4.0  "
      ],
      "text/html": "<div>\n<style scoped>\n    .dataframe tbody tr th:only-of-type {\n        vertical-align: middle;\n    }\n\n    .dataframe tbody tr th {\n        vertical-align: top;\n    }\n\n    .dataframe thead th {\n        text-align: right;\n    }\n</style>\n<table border=\"1\" class=\"dataframe\">\n  <thead>\n    <tr style=\"text-align: right;\">\n      <th></th>\n      <th>Did you experience any delays on your flight</th>\n      <th>The plane was clean</th>\n      <th>You enjoyed the food during your flight</th>\n      <th>Flight attendants solved your problems quickly</th>\n      <th>You enjoyed the customer service during your flight</th>\n      <th>You would like to travel with us again</th>\n    </tr>\n  </thead>\n  <tbody>\n    <tr>\n      <th>0</th>\n      <td>0.0</td>\n      <td>4.0</td>\n      <td>3.0</td>\n      <td>2.0</td>\n      <td>1.0</td>\n      <td>1.0</td>\n    </tr>\n    <tr>\n      <th>1</th>\n      <td>3.0</td>\n      <td>1.0</td>\n      <td>1.0</td>\n      <td>0.0</td>\n      <td>0.0</td>\n      <td>1.0</td>\n    </tr>\n    <tr>\n      <th>2</th>\n      <td>0.0</td>\n      <td>3.0</td>\n      <td>3.0</td>\n      <td>1.0</td>\n      <td>1.0</td>\n      <td>2.0</td>\n    </tr>\n    <tr>\n      <th>3</th>\n      <td>0.0</td>\n      <td>4.0</td>\n      <td>2.0</td>\n      <td>2.0</td>\n      <td>1.0</td>\n      <td>1.0</td>\n    </tr>\n    <tr>\n      <th>4</th>\n      <td>2.0</td>\n      <td>3.0</td>\n      <td>2.0</td>\n      <td>2.0</td>\n      <td>2.0</td>\n      <td>4.0</td>\n    </tr>\n  </tbody>\n</table>\n</div>"
     },
     "metadata": {},
     "execution_count": 20
    }
   ],
   "source": [
    "\n",
    "Set1 = pd.DataFrame({'Did you experience any delays on your flight': I[:, 0],\n",
    "                    'The plane was clean':I[:,1],\n",
    "                   'You enjoyed the food during your flight': I[:, 2],\n",
    "                     'Flight attendants solved your problems quickly':I[:,3],\n",
    "                   'You enjoyed the customer service during your flight ': I[:, 4],\n",
    "                   'You would like to travel with us again': I[:, 5],\n",
    "                  }                 \n",
    "                 )\n",
    "Set1.head()"
   ]
  },
  {
   "cell_type": "code",
   "execution_count": null,
   "metadata": {},
   "outputs": [],
   "source": []
  }
 ]
}
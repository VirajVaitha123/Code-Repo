{
 "metadata": {
  "language_info": {
   "codemirror_mode": {
    "name": "ipython",
    "version": 3
   },
   "file_extension": ".py",
   "mimetype": "text/x-python",
   "name": "python",
   "nbconvert_exporter": "python",
   "pygments_lexer": "ipython3",
   "version": "3.7.9-final"
  },
  "orig_nbformat": 2,
  "kernelspec": {
   "name": "python3",
   "display_name": "Python 3"
  }
 },
 "nbformat": 4,
 "nbformat_minor": 2,
 "cells": [
  {
   "source": [
    "## Pandas\n",
    "\n",
    "Regular tasks you may encounter when using Pandas. I have created this repositary to save myself time when completing common tasks and storing all relevant code: <br>\n",
    "\n",
    "\n",
    "<u> Contents </u> <br>\n",
    "<a href=\"#map1\">1. numpy to pandas dataframe</a> <br>\n",
    "<a href=\"#map2\">2. Adding list as a column </a> <br>\n",
    "<a href=\"#map3\">3. Export data as a CSV</a> <br>\n",
    "<a href=\"#map4\">4. Importing data as a CSV </a> <br>\n",
    "<a href=\"#map5a\">5. Dataframe containing relevant columns only (Filtering based on columns) </a><br>"
   ],
   "cell_type": "markdown",
   "metadata": {}
  },
  {
   "cell_type": "code",
   "execution_count": 19,
   "metadata": {},
   "outputs": [],
   "source": [
    "import pandas as pd\n",
    "from sklearn.datasets import make_blobs  "
   ]
  },
  {
   "cell_type": "code",
   "execution_count": 20,
   "metadata": {},
   "outputs": [],
   "source": [
    "I, b = make_blobs(n_samples=37, #37 people responded to the survey\n",
    "                  centers = 3,  #Three clusters\n",
    "                  n_features=6, #Number of Survey Questions\n",
    "                  center_box =(-2, 4), \n",
    "                  cluster_std = 0.3,\n",
    "                  random_state= 42)"
   ]
  },
  {
   "source": [
    "#### <a name=\"map1\">1. numpy array to pandas dataframe </a>"
   ],
   "cell_type": "markdown",
   "metadata": {}
  },
  {
   "cell_type": "code",
   "execution_count": 21,
   "metadata": {},
   "outputs": [
    {
     "output_type": "execute_result",
     "data": {
      "text/plain": [
       "   Did you experience any delays on your flight  The plane was clean  \\\n",
       "0                                      0.355732             3.510750   \n",
       "1                                      3.149166            -0.571830   \n",
       "2                                      0.243192             3.386973   \n",
       "3                                     -0.098057             3.816995   \n",
       "4                                     -1.661912             2.846453   \n",
       "\n",
       "   You enjoyed the food during your flight  \\\n",
       "0                                 2.500382   \n",
       "1                                -0.754536   \n",
       "2                                 2.638727   \n",
       "3                                 2.211772   \n",
       "4                                 1.949537   \n",
       "\n",
       "   Flight attendants solved your problems quickly  \\\n",
       "0                                        2.053362   \n",
       "1                                        0.256247   \n",
       "2                                        1.225698   \n",
       "3                                        1.504443   \n",
       "4                                        2.474015   \n",
       "\n",
       "   You enjoyed the customer service during your flight   \\\n",
       "0                                          -1.074636      \n",
       "1                                          -0.003279      \n",
       "2                                          -1.001229      \n",
       "3                                          -1.244400      \n",
       "4                                          -1.639183      \n",
       "\n",
       "   You would like to travel with us again  \n",
       "0                               -0.594640  \n",
       "1                                1.489208  \n",
       "2                               -1.651934  \n",
       "3                               -0.508349  \n",
       "4                                3.546643  "
      ],
      "text/html": "<div>\n<style scoped>\n    .dataframe tbody tr th:only-of-type {\n        vertical-align: middle;\n    }\n\n    .dataframe tbody tr th {\n        vertical-align: top;\n    }\n\n    .dataframe thead th {\n        text-align: right;\n    }\n</style>\n<table border=\"1\" class=\"dataframe\">\n  <thead>\n    <tr style=\"text-align: right;\">\n      <th></th>\n      <th>Did you experience any delays on your flight</th>\n      <th>The plane was clean</th>\n      <th>You enjoyed the food during your flight</th>\n      <th>Flight attendants solved your problems quickly</th>\n      <th>You enjoyed the customer service during your flight</th>\n      <th>You would like to travel with us again</th>\n    </tr>\n  </thead>\n  <tbody>\n    <tr>\n      <th>0</th>\n      <td>0.355732</td>\n      <td>3.510750</td>\n      <td>2.500382</td>\n      <td>2.053362</td>\n      <td>-1.074636</td>\n      <td>-0.594640</td>\n    </tr>\n    <tr>\n      <th>1</th>\n      <td>3.149166</td>\n      <td>-0.571830</td>\n      <td>-0.754536</td>\n      <td>0.256247</td>\n      <td>-0.003279</td>\n      <td>1.489208</td>\n    </tr>\n    <tr>\n      <th>2</th>\n      <td>0.243192</td>\n      <td>3.386973</td>\n      <td>2.638727</td>\n      <td>1.225698</td>\n      <td>-1.001229</td>\n      <td>-1.651934</td>\n    </tr>\n    <tr>\n      <th>3</th>\n      <td>-0.098057</td>\n      <td>3.816995</td>\n      <td>2.211772</td>\n      <td>1.504443</td>\n      <td>-1.244400</td>\n      <td>-0.508349</td>\n    </tr>\n    <tr>\n      <th>4</th>\n      <td>-1.661912</td>\n      <td>2.846453</td>\n      <td>1.949537</td>\n      <td>2.474015</td>\n      <td>-1.639183</td>\n      <td>3.546643</td>\n    </tr>\n  </tbody>\n</table>\n</div>"
     },
     "metadata": {},
     "execution_count": 21
    }
   ],
   "source": [
    "\n",
    "Set1 = pd.DataFrame({'Did you experience any delays on your flight': I[:, 0],\n",
    "                    'The plane was clean':I[:,1],\n",
    "                   'You enjoyed the food during your flight': I[:, 2],\n",
    "                     'Flight attendants solved your problems quickly':I[:,3],\n",
    "                   'You enjoyed the customer service during your flight ': I[:, 4],\n",
    "                   'You would like to travel with us again': I[:, 5],\n",
    "                  }                 \n",
    "                 )\n",
    "Set1.head()"
   ]
  },
  {
   "source": [
    "#### <a name=\"map2\">2. Adding a list of items as a column </a>"
   ],
   "cell_type": "markdown",
   "metadata": {}
  },
  {
   "cell_type": "code",
   "execution_count": 22,
   "metadata": {},
   "outputs": [
    {
     "output_type": "execute_result",
     "data": {
      "text/plain": [
       "   Did you experience any delays on your flight  The plane was clean  \\\n",
       "0                                      0.355732             3.510750   \n",
       "1                                      3.149166            -0.571830   \n",
       "2                                      0.243192             3.386973   \n",
       "3                                     -0.098057             3.816995   \n",
       "4                                     -1.661912             2.846453   \n",
       "\n",
       "   You enjoyed the food during your flight  \\\n",
       "0                                 2.500382   \n",
       "1                                -0.754536   \n",
       "2                                 2.638727   \n",
       "3                                 2.211772   \n",
       "4                                 1.949537   \n",
       "\n",
       "   Flight attendants solved your problems quickly  \\\n",
       "0                                        2.053362   \n",
       "1                                        0.256247   \n",
       "2                                        1.225698   \n",
       "3                                        1.504443   \n",
       "4                                        2.474015   \n",
       "\n",
       "   You enjoyed the customer service during your flight   \\\n",
       "0                                          -1.074636      \n",
       "1                                          -0.003279      \n",
       "2                                          -1.001229      \n",
       "3                                          -1.244400      \n",
       "4                                          -1.639183      \n",
       "\n",
       "   You would like to travel with us again   Name  \n",
       "0                               -0.594640  Sarah  \n",
       "1                                1.489208     Mo  \n",
       "2                               -1.651934  David  \n",
       "3                               -0.508349   Neil  \n",
       "4                                3.546643  Viraj  "
      ],
      "text/html": "<div>\n<style scoped>\n    .dataframe tbody tr th:only-of-type {\n        vertical-align: middle;\n    }\n\n    .dataframe tbody tr th {\n        vertical-align: top;\n    }\n\n    .dataframe thead th {\n        text-align: right;\n    }\n</style>\n<table border=\"1\" class=\"dataframe\">\n  <thead>\n    <tr style=\"text-align: right;\">\n      <th></th>\n      <th>Did you experience any delays on your flight</th>\n      <th>The plane was clean</th>\n      <th>You enjoyed the food during your flight</th>\n      <th>Flight attendants solved your problems quickly</th>\n      <th>You enjoyed the customer service during your flight</th>\n      <th>You would like to travel with us again</th>\n      <th>Name</th>\n    </tr>\n  </thead>\n  <tbody>\n    <tr>\n      <th>0</th>\n      <td>0.355732</td>\n      <td>3.510750</td>\n      <td>2.500382</td>\n      <td>2.053362</td>\n      <td>-1.074636</td>\n      <td>-0.594640</td>\n      <td>Sarah</td>\n    </tr>\n    <tr>\n      <th>1</th>\n      <td>3.149166</td>\n      <td>-0.571830</td>\n      <td>-0.754536</td>\n      <td>0.256247</td>\n      <td>-0.003279</td>\n      <td>1.489208</td>\n      <td>Mo</td>\n    </tr>\n    <tr>\n      <th>2</th>\n      <td>0.243192</td>\n      <td>3.386973</td>\n      <td>2.638727</td>\n      <td>1.225698</td>\n      <td>-1.001229</td>\n      <td>-1.651934</td>\n      <td>David</td>\n    </tr>\n    <tr>\n      <th>3</th>\n      <td>-0.098057</td>\n      <td>3.816995</td>\n      <td>2.211772</td>\n      <td>1.504443</td>\n      <td>-1.244400</td>\n      <td>-0.508349</td>\n      <td>Neil</td>\n    </tr>\n    <tr>\n      <th>4</th>\n      <td>-1.661912</td>\n      <td>2.846453</td>\n      <td>1.949537</td>\n      <td>2.474015</td>\n      <td>-1.639183</td>\n      <td>3.546643</td>\n      <td>Viraj</td>\n    </tr>\n  </tbody>\n</table>\n</div>"
     },
     "metadata": {},
     "execution_count": 22
    }
   ],
   "source": [
    "Names1 = [\"Sarah\", \"Mo\", \"David\", \"Neil\", \"Viraj\", \"Jaxson Spencer\",\"Camryn Bond\",\"Adonis Davies\",\n",
    "          \"Salvatore Mann\",\" Marie Whitney\",\"Damarion Rowe\",\"Tatum Booker\",\"Alyson Hull\",\"Saige Wells\",\n",
    "          \"Tyrell Lane\",\"Jazlyn Everett\",\"Nia Dawson\",\"Evelyn Torres\",\"Kate Rivera\",\"Killian Douglas\",\n",
    "          \"Isaias Bond\",\"Lorena Nielsen\",\"Reese Hunter\",\"amari Walters\",\"Korbin Mcconnell\",\"Autumn Martin\",\"Averie Raymond\",\n",
    "          \"Hector Weaver\",\"Zayden Moyer\",\"Bridget Navarro\",\"Dominique Fletcher\",\"Jillian Woodard\",\"Sofia Rivers\",\n",
    "          \"Efrain Whitney\",\"Gwendolyn Baxter\",\"Ayana Greer\",\"Jazlynn Richmond\"] #List of random names\n",
    "\n",
    "Set1[\"Name\"]   = Names1\n",
    "\n",
    "Set1.head()"
   ]
  },
  {
   "source": [
    "#### <a name=\"map3\"> 3. Exporting dataframe as a csv </a>"
   ],
   "cell_type": "markdown",
   "metadata": {}
  },
  {
   "cell_type": "code",
   "execution_count": 35,
   "metadata": {},
   "outputs": [],
   "source": [
    "Set1.to_csv(\"C:/Users/Viraj/Work/Code-Repo/Data/testdata.csv\", index = False)"
   ]
  },
  {
   "source": [
    "#### <a name=\"map4\"> 4. Importing CSV into a dataframe </a>"
   ],
   "cell_type": "markdown",
   "metadata": {}
  },
  {
   "cell_type": "code",
   "execution_count": 36,
   "metadata": {},
   "outputs": [],
   "source": [
    "cdf = pd.read_csv(\"C:/Users/Viraj/Work/Code-Repo/Data/testdata.csv\")"
   ]
  },
  {
   "source": [
    "#### <a name=\"map5\">5. Dataframe containing relevant columns only (Filtering based on columns)</a>\n",
    "In this case we are only dropping one column, so dropping the column would be more appriopriate.\n",
    "\n",
    "Regardless, we should be able to test which way was faster. Following this code I will illustrate how to check the memory consumption and speed required to execute the following code."
   ],
   "cell_type": "markdown",
   "metadata": {}
  },
  {
   "cell_type": "code",
   "execution_count": 25,
   "metadata": {},
   "outputs": [],
   "source": [
    "cdf = Set1[['Did you experience any delays on your flight',\n",
    "                    'The plane was clean',\n",
    "                   'You enjoyed the food during your flight',\n",
    "                     'Flight attendants solved your problems quickly',\n",
    "                   'You enjoyed the customer service during your flight ',\n",
    "                   'You would like to travel with us again']] "
   ]
  },
  {
   "cell_type": "code",
   "execution_count": 17,
   "metadata": {},
   "outputs": [],
   "source": [
    "cdf2 = Set1.drop(['Name'], axis=1)"
   ]
  },
  {
   "cell_type": "code",
   "execution_count": 9,
   "metadata": {},
   "outputs": [
    {
     "output_type": "execute_result",
     "data": {
      "text/plain": [
       "   Did you experience any delays on your flight  The plane was clean  \\\n",
       "0                                      0.355732             3.510750   \n",
       "1                                      3.149166            -0.571830   \n",
       "2                                      0.243192             3.386973   \n",
       "3                                     -0.098057             3.816995   \n",
       "4                                     -1.661912             2.846453   \n",
       "\n",
       "   You enjoyed the food during your flight  \\\n",
       "0                                 2.500382   \n",
       "1                                -0.754536   \n",
       "2                                 2.638727   \n",
       "3                                 2.211772   \n",
       "4                                 1.949537   \n",
       "\n",
       "   Flight attendants solved your problems quickly  \\\n",
       "0                                        2.053362   \n",
       "1                                        0.256247   \n",
       "2                                        1.225698   \n",
       "3                                        1.504443   \n",
       "4                                        2.474015   \n",
       "\n",
       "   You enjoyed the customer service during your flight   \\\n",
       "0                                          -1.074636      \n",
       "1                                          -0.003279      \n",
       "2                                          -1.001229      \n",
       "3                                          -1.244400      \n",
       "4                                          -1.639183      \n",
       "\n",
       "   You would like to travel with us again  \n",
       "0                               -0.594640  \n",
       "1                                1.489208  \n",
       "2                               -1.651934  \n",
       "3                               -0.508349  \n",
       "4                                3.546643  "
      ],
      "text/html": "<div>\n<style scoped>\n    .dataframe tbody tr th:only-of-type {\n        vertical-align: middle;\n    }\n\n    .dataframe tbody tr th {\n        vertical-align: top;\n    }\n\n    .dataframe thead th {\n        text-align: right;\n    }\n</style>\n<table border=\"1\" class=\"dataframe\">\n  <thead>\n    <tr style=\"text-align: right;\">\n      <th></th>\n      <th>Did you experience any delays on your flight</th>\n      <th>The plane was clean</th>\n      <th>You enjoyed the food during your flight</th>\n      <th>Flight attendants solved your problems quickly</th>\n      <th>You enjoyed the customer service during your flight</th>\n      <th>You would like to travel with us again</th>\n    </tr>\n  </thead>\n  <tbody>\n    <tr>\n      <th>0</th>\n      <td>0.355732</td>\n      <td>3.510750</td>\n      <td>2.500382</td>\n      <td>2.053362</td>\n      <td>-1.074636</td>\n      <td>-0.594640</td>\n    </tr>\n    <tr>\n      <th>1</th>\n      <td>3.149166</td>\n      <td>-0.571830</td>\n      <td>-0.754536</td>\n      <td>0.256247</td>\n      <td>-0.003279</td>\n      <td>1.489208</td>\n    </tr>\n    <tr>\n      <th>2</th>\n      <td>0.243192</td>\n      <td>3.386973</td>\n      <td>2.638727</td>\n      <td>1.225698</td>\n      <td>-1.001229</td>\n      <td>-1.651934</td>\n    </tr>\n    <tr>\n      <th>3</th>\n      <td>-0.098057</td>\n      <td>3.816995</td>\n      <td>2.211772</td>\n      <td>1.504443</td>\n      <td>-1.244400</td>\n      <td>-0.508349</td>\n    </tr>\n    <tr>\n      <th>4</th>\n      <td>-1.661912</td>\n      <td>2.846453</td>\n      <td>1.949537</td>\n      <td>2.474015</td>\n      <td>-1.639183</td>\n      <td>3.546643</td>\n    </tr>\n  </tbody>\n</table>\n</div>"
     },
     "metadata": {},
     "execution_count": 9
    }
   ],
   "source": []
  },
  {
   "cell_type": "code",
   "execution_count": 37,
   "metadata": {},
   "outputs": [],
   "source": [
    "import timeit\n"
   ]
  },
  {
   "cell_type": "code",
   "execution_count": 42,
   "metadata": {},
   "outputs": [
    {
     "output_type": "error",
     "ename": "AttributeError",
     "evalue": "'str' object has no attribute 'drop'",
     "traceback": [
      "\u001b[1;31m---------------------------------------------------------------------------\u001b[0m",
      "\u001b[1;31mAttributeError\u001b[0m                            Traceback (most recent call last)",
      "\u001b[1;32m<ipython-input-42-85cde4f60698>\u001b[0m in \u001b[0;36m<module>\u001b[1;34m\u001b[0m\n\u001b[1;32m----> 1\u001b[1;33m \u001b[0mtimeit\u001b[0m\u001b[1;33m.\u001b[0m\u001b[0mtimeit\u001b[0m\u001b[1;33m(\u001b[0m\u001b[1;34m'Set1'\u001b[0m\u001b[1;33m.\u001b[0m\u001b[0mdrop\u001b[0m\u001b[1;33m(\u001b[0m\u001b[1;33m[\u001b[0m\u001b[1;34m'Name'\u001b[0m\u001b[1;33m]\u001b[0m\u001b[1;33m,\u001b[0m\u001b[0maxis\u001b[0m\u001b[1;33m=\u001b[0m\u001b[1;36m1\u001b[0m\u001b[1;33m)\u001b[0m\u001b[1;33m)\u001b[0m\u001b[1;33m\u001b[0m\u001b[1;33m\u001b[0m\u001b[0m\n\u001b[0m",
      "\u001b[1;31mAttributeError\u001b[0m: 'str' object has no attribute 'drop'"
     ]
    }
   ],
   "source": [
    "timeit.timeit(Set1.drop(['Name'],axis=1))"
   ]
  },
  {
   "cell_type": "code",
   "execution_count": null,
   "metadata": {},
   "outputs": [],
   "source": []
  }
 ]
}